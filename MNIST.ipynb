{
 "cells": [
  {
   "cell_type": "code",
   "execution_count": 1,
   "id": "cd9980b2-ab05-4efd-bd3c-72550854f7b2",
   "metadata": {
    "execution": {
     "iopub.execute_input": "2023-09-30T06:17:04.770351Z",
     "iopub.status.busy": "2023-09-30T06:17:04.769236Z",
     "iopub.status.idle": "2023-09-30T06:17:12.755260Z",
     "shell.execute_reply": "2023-09-30T06:17:12.754088Z",
     "shell.execute_reply.started": "2023-09-30T06:17:04.770223Z"
    }
   },
   "outputs": [],
   "source": [
    "#hide\n",
    "! [ -e /content ] && pip install -Uqq fastbook\n",
    "import fastbook\n",
    "fastbook.setup_book()"
   ]
  },
  {
   "cell_type": "code",
   "execution_count": 2,
   "id": "0a6dec16-e690-49d3-8387-f5e84653a29f",
   "metadata": {
    "execution": {
     "iopub.execute_input": "2023-09-30T06:17:12.757737Z",
     "iopub.status.busy": "2023-09-30T06:17:12.757298Z",
     "iopub.status.idle": "2023-09-30T06:17:12.763782Z",
     "shell.execute_reply": "2023-09-30T06:17:12.762548Z",
     "shell.execute_reply.started": "2023-09-30T06:17:12.757709Z"
    }
   },
   "outputs": [],
   "source": [
    "#hide\n",
    "from fastai.vision.all import *\n",
    "from fastbook import *"
   ]
  },
  {
   "cell_type": "markdown",
   "id": "f62deacd-fb4f-4161-ba2a-455581c996f6",
   "metadata": {},
   "source": [
    "# MNIST Classifier Using PyTorch and FastAI"
   ]
  },
  {
   "cell_type": "code",
   "execution_count": 3,
   "id": "7f67a964-fd2c-4b2a-975f-541e1c67948a",
   "metadata": {
    "execution": {
     "iopub.execute_input": "2023-09-30T06:17:12.765551Z",
     "iopub.status.busy": "2023-09-30T06:17:12.765200Z",
     "iopub.status.idle": "2023-09-30T06:17:12.772087Z",
     "shell.execute_reply": "2023-09-30T06:17:12.771066Z",
     "shell.execute_reply.started": "2023-09-30T06:17:12.765524Z"
    }
   },
   "outputs": [],
   "source": [
    "path = untar_data(URLs.MNIST)"
   ]
  },
  {
   "cell_type": "code",
   "execution_count": 4,
   "id": "eaccc98e-baf7-45a2-b211-f55a858b4dc4",
   "metadata": {
    "execution": {
     "iopub.execute_input": "2023-09-30T06:17:12.774745Z",
     "iopub.status.busy": "2023-09-30T06:17:12.774237Z",
     "iopub.status.idle": "2023-09-30T06:17:12.778693Z",
     "shell.execute_reply": "2023-09-30T06:17:12.777501Z",
     "shell.execute_reply.started": "2023-09-30T06:17:12.774719Z"
    },
    "tags": []
   },
   "outputs": [],
   "source": [
    "Path.BASE_PATH = path"
   ]
  },
  {
   "cell_type": "markdown",
   "id": "a10e1e3c-9fe2-489f-87a1-1c7534d57ecb",
   "metadata": {},
   "source": [
    "## Create Train/Validation Sets"
   ]
  },
  {
   "cell_type": "code",
   "execution_count": 5,
   "id": "79e235a2-702a-47d8-b49a-2d84ef9f5d9d",
   "metadata": {
    "execution": {
     "iopub.execute_input": "2023-09-30T06:17:12.780767Z",
     "iopub.status.busy": "2023-09-30T06:17:12.780303Z",
     "iopub.status.idle": "2023-09-30T06:17:13.641440Z",
     "shell.execute_reply": "2023-09-30T06:17:13.640484Z",
     "shell.execute_reply.started": "2023-09-30T06:17:12.780737Z"
    },
    "tags": []
   },
   "outputs": [],
   "source": [
    "training_images = []\n",
    "validation_images = []\n",
    "for i in range(0,10):\n",
    "    training_images.append((path/f'training/{i}').ls().sorted())\n",
    "    validation_images.append((path/f'testing/{i}').ls().sorted())"
   ]
  },
  {
   "cell_type": "code",
   "execution_count": 6,
   "id": "eed71746-2cc7-4e2c-ae8c-ae1bae509fff",
   "metadata": {
    "execution": {
     "iopub.execute_input": "2023-09-30T06:17:13.643079Z",
     "iopub.status.busy": "2023-09-30T06:17:13.642834Z",
     "iopub.status.idle": "2023-09-30T06:17:29.204716Z",
     "shell.execute_reply": "2023-09-30T06:17:29.203703Z",
     "shell.execute_reply.started": "2023-09-30T06:17:13.643056Z"
    },
    "tags": []
   },
   "outputs": [],
   "source": [
    "training_tensors = []\n",
    "for images in training_images:\n",
    "    training_tensors.append(torch.stack([tensor(Image.open(o)) for o in images]).float()/255)"
   ]
  },
  {
   "cell_type": "code",
   "execution_count": 7,
   "id": "a5fbd9b2-5892-401c-808c-3fa927b5d45a",
   "metadata": {
    "execution": {
     "iopub.execute_input": "2023-09-30T06:17:29.206663Z",
     "iopub.status.busy": "2023-09-30T06:17:29.205978Z",
     "iopub.status.idle": "2023-09-30T06:17:31.641419Z",
     "shell.execute_reply": "2023-09-30T06:17:31.640269Z",
     "shell.execute_reply.started": "2023-09-30T06:17:29.206636Z"
    },
    "tags": []
   },
   "outputs": [],
   "source": [
    "validation_tensors = []\n",
    "for images in validation_images:\n",
    "    validation_tensors.append(torch.stack([tensor(Image.open(o)) for o in images]).float()/255)"
   ]
  },
  {
   "cell_type": "markdown",
   "id": "e0ec21c1-92d6-487c-aadf-e304dab9596e",
   "metadata": {},
   "source": [
    "## Use One-Hot Encoding for the Labels"
   ]
  },
  {
   "cell_type": "code",
   "execution_count": 8,
   "id": "88d548cd-98bb-47e5-a091-7888af017a5a",
   "metadata": {
    "execution": {
     "iopub.execute_input": "2023-09-30T06:17:31.643890Z",
     "iopub.status.busy": "2023-09-30T06:17:31.642884Z",
     "iopub.status.idle": "2023-09-30T06:17:31.660770Z",
     "shell.execute_reply": "2023-09-30T06:17:31.659707Z",
     "shell.execute_reply.started": "2023-09-30T06:17:31.643841Z"
    },
    "tags": []
   },
   "outputs": [
    {
     "data": {
      "text/plain": [
       "tensor([1., 0., 0., 0., 0., 0., 0., 0., 0., 0.])"
      ]
     },
     "execution_count": 8,
     "metadata": {},
     "output_type": "execute_result"
    }
   ],
   "source": [
    "import torch.nn.functional as F\n",
    "\n",
    "label_encodings = F.one_hot(torch.arange(0,10)).float()\n",
    "label_encodings[0]"
   ]
  },
  {
   "cell_type": "code",
   "execution_count": 9,
   "id": "37f75cf3-85e3-4598-888d-19c03d71a893",
   "metadata": {
    "execution": {
     "iopub.execute_input": "2023-09-30T06:17:31.662818Z",
     "iopub.status.busy": "2023-09-30T06:17:31.662380Z",
     "iopub.status.idle": "2023-09-30T06:17:31.982597Z",
     "shell.execute_reply": "2023-09-30T06:17:31.981543Z",
     "shell.execute_reply.started": "2023-09-30T06:17:31.662769Z"
    },
    "tags": []
   },
   "outputs": [],
   "source": [
    "train_x = torch.cat(training_tensors).view(-1,28*28)\n",
    "val_x = torch.cat(validation_tensors).view(-1,28*28)\n",
    "\n",
    "train_y = torch.cat([torch.stack([label_encodings[i] for _ in range(len(images))]) \n",
    "                 for i, images in enumerate(training_images)])\n",
    "val_y = torch.cat([torch.stack([label_encodings[i] for _ in range(len(images))]) \n",
    "                 for i, images in enumerate(validation_images)])"
   ]
  },
  {
   "cell_type": "code",
   "execution_count": 10,
   "id": "43f9c6bf-7aa0-47eb-9ce5-3511a21171d2",
   "metadata": {
    "execution": {
     "iopub.execute_input": "2023-09-30T06:17:31.985723Z",
     "iopub.status.busy": "2023-09-30T06:17:31.985439Z",
     "iopub.status.idle": "2023-09-30T06:17:32.001540Z",
     "shell.execute_reply": "2023-09-30T06:17:32.000485Z",
     "shell.execute_reply.started": "2023-09-30T06:17:31.985698Z"
    },
    "tags": []
   },
   "outputs": [
    {
     "data": {
      "text/plain": [
       "(torch.Size([60000, 784]),\n",
       " torch.Size([60000, 10]),\n",
       " torch.Size([10000, 784]),\n",
       " torch.Size([10000, 10]))"
      ]
     },
     "execution_count": 10,
     "metadata": {},
     "output_type": "execute_result"
    }
   ],
   "source": [
    "train_x.shape, train_y.shape, val_x.shape, val_y.shape"
   ]
  },
  {
   "cell_type": "code",
   "execution_count": 11,
   "id": "b94ae865-c709-45ce-8668-3f6b3b6f2871",
   "metadata": {
    "execution": {
     "iopub.execute_input": "2023-09-30T06:17:32.002913Z",
     "iopub.status.busy": "2023-09-30T06:17:32.002636Z",
     "iopub.status.idle": "2023-09-30T06:17:32.763435Z",
     "shell.execute_reply": "2023-09-30T06:17:32.762292Z",
     "shell.execute_reply.started": "2023-09-30T06:17:32.002887Z"
    },
    "tags": []
   },
   "outputs": [],
   "source": [
    "training_set = list(zip(train_x, train_y))\n",
    "validation_set = list(zip(val_x, val_y))"
   ]
  },
  {
   "cell_type": "markdown",
   "id": "61e8804a-e11c-4fd2-8563-bd54a630a37a",
   "metadata": {},
   "source": [
    "# Create a Model using Softmax and Cross Entropy Loss"
   ]
  },
  {
   "cell_type": "code",
   "execution_count": 12,
   "id": "b4e31b8e-a475-4cf8-97fa-78fc194e6640",
   "metadata": {
    "execution": {
     "iopub.execute_input": "2023-09-30T06:17:32.764829Z",
     "iopub.status.busy": "2023-09-30T06:17:32.764576Z",
     "iopub.status.idle": "2023-09-30T06:17:32.770760Z",
     "shell.execute_reply": "2023-09-30T06:17:32.769725Z",
     "shell.execute_reply.started": "2023-09-30T06:17:32.764804Z"
    }
   },
   "outputs": [],
   "source": [
    "# Create a data loader with batch size of 256\n",
    "dl = DataLoader(training_set, batch_size=256)\n",
    "valid_dl = DataLoader(validation_set, batch_size=256)\n",
    "dls = DataLoaders(dl, valid_dl)"
   ]
  },
  {
   "cell_type": "code",
   "execution_count": 13,
   "id": "3321e764-60c5-4eb6-9066-8f10e044fe35",
   "metadata": {
    "execution": {
     "iopub.execute_input": "2023-09-30T06:17:32.772544Z",
     "iopub.status.busy": "2023-09-30T06:17:32.772149Z",
     "iopub.status.idle": "2023-09-30T06:17:32.781559Z",
     "shell.execute_reply": "2023-09-30T06:17:32.780329Z",
     "shell.execute_reply.started": "2023-09-30T06:17:32.772507Z"
    }
   },
   "outputs": [],
   "source": [
    "def batch_accuracy(xb, yb):\n",
    "    preds = xb.softmax(1)\n",
    "    correct = (preds>0.5) == yb\n",
    "    return correct.float().mean()\n",
    "\n",
    "def mnist_loss(predictions, targets):\n",
    "    predictions = predictions.softmax(1)\n",
    "    return F.cross_entropy(predictions, targets)\n",
    "\n",
    "simple_net = nn.Sequential(\n",
    "    nn.Linear(28*28, 30),\n",
    "    nn.ReLU(),\n",
    "    nn.Linear(30,10),\n",
    ")\n"
   ]
  },
  {
   "cell_type": "code",
   "execution_count": 14,
   "id": "f96d4c49-20d1-4598-9b8d-b99b3e0a9405",
   "metadata": {
    "execution": {
     "iopub.execute_input": "2023-09-30T06:17:32.783760Z",
     "iopub.status.busy": "2023-09-30T06:17:32.783073Z",
     "iopub.status.idle": "2023-09-30T06:17:32.788942Z",
     "shell.execute_reply": "2023-09-30T06:17:32.788067Z",
     "shell.execute_reply.started": "2023-09-30T06:17:32.783719Z"
    }
   },
   "outputs": [],
   "source": [
    "learn = Learner(dls, simple_net, opt_func=SGD,\n",
    "                loss_func=mnist_loss, metrics=batch_accuracy)"
   ]
  },
  {
   "cell_type": "code",
   "execution_count": 15,
   "id": "ab3cc797-f319-4c94-8318-2a53e01ecb6d",
   "metadata": {
    "execution": {
     "iopub.execute_input": "2023-09-30T06:17:32.791186Z",
     "iopub.status.busy": "2023-09-30T06:17:32.790777Z",
     "iopub.status.idle": "2023-09-30T06:18:37.274745Z",
     "shell.execute_reply": "2023-09-30T06:18:37.273848Z",
     "shell.execute_reply.started": "2023-09-30T06:17:32.791154Z"
    }
   },
   "outputs": [
    {
     "data": {
      "text/html": [
       "\n",
       "<style>\n",
       "    /* Turns off some styling */\n",
       "    progress {\n",
       "        /* gets rid of default border in Firefox and Opera. */\n",
       "        border: none;\n",
       "        /* Needs to be in here for Safari polyfill so background images work as expected. */\n",
       "        background-size: auto;\n",
       "    }\n",
       "    progress:not([value]), progress:not([value])::-webkit-progress-bar {\n",
       "        background: repeating-linear-gradient(45deg, #7e7e7e, #7e7e7e 10px, #5c5c5c 10px, #5c5c5c 20px);\n",
       "    }\n",
       "    .progress-bar-interrupted, .progress-bar-interrupted::-webkit-progress-bar {\n",
       "        background: #F44336;\n",
       "    }\n",
       "</style>\n"
      ],
      "text/plain": [
       "<IPython.core.display.HTML object>"
      ]
     },
     "metadata": {},
     "output_type": "display_data"
    },
    {
     "data": {
      "text/html": [
       "<table border=\"1\" class=\"dataframe\">\n",
       "  <thead>\n",
       "    <tr style=\"text-align: left;\">\n",
       "      <th>epoch</th>\n",
       "      <th>train_loss</th>\n",
       "      <th>valid_loss</th>\n",
       "      <th>batch_accuracy</th>\n",
       "      <th>time</th>\n",
       "    </tr>\n",
       "  </thead>\n",
       "  <tbody>\n",
       "    <tr>\n",
       "      <td>0</td>\n",
       "      <td>2.306879</td>\n",
       "      <td>2.298369</td>\n",
       "      <td>0.900000</td>\n",
       "      <td>00:04</td>\n",
       "    </tr>\n",
       "    <tr>\n",
       "      <td>1</td>\n",
       "      <td>2.303779</td>\n",
       "      <td>2.292974</td>\n",
       "      <td>0.900000</td>\n",
       "      <td>00:01</td>\n",
       "    </tr>\n",
       "    <tr>\n",
       "      <td>2</td>\n",
       "      <td>2.300215</td>\n",
       "      <td>2.284804</td>\n",
       "      <td>0.900000</td>\n",
       "      <td>00:01</td>\n",
       "    </tr>\n",
       "    <tr>\n",
       "      <td>3</td>\n",
       "      <td>2.296540</td>\n",
       "      <td>2.271742</td>\n",
       "      <td>0.900000</td>\n",
       "      <td>00:01</td>\n",
       "    </tr>\n",
       "    <tr>\n",
       "      <td>4</td>\n",
       "      <td>2.292424</td>\n",
       "      <td>2.250248</td>\n",
       "      <td>0.900810</td>\n",
       "      <td>00:01</td>\n",
       "    </tr>\n",
       "    <tr>\n",
       "      <td>5</td>\n",
       "      <td>2.284485</td>\n",
       "      <td>2.222245</td>\n",
       "      <td>0.906160</td>\n",
       "      <td>00:01</td>\n",
       "    </tr>\n",
       "    <tr>\n",
       "      <td>6</td>\n",
       "      <td>2.270745</td>\n",
       "      <td>2.192522</td>\n",
       "      <td>0.909720</td>\n",
       "      <td>00:01</td>\n",
       "    </tr>\n",
       "    <tr>\n",
       "      <td>7</td>\n",
       "      <td>2.254890</td>\n",
       "      <td>2.158380</td>\n",
       "      <td>0.910020</td>\n",
       "      <td>00:01</td>\n",
       "    </tr>\n",
       "    <tr>\n",
       "      <td>8</td>\n",
       "      <td>2.237795</td>\n",
       "      <td>2.119126</td>\n",
       "      <td>0.918040</td>\n",
       "      <td>00:01</td>\n",
       "    </tr>\n",
       "    <tr>\n",
       "      <td>9</td>\n",
       "      <td>2.219953</td>\n",
       "      <td>2.083408</td>\n",
       "      <td>0.919810</td>\n",
       "      <td>00:01</td>\n",
       "    </tr>\n",
       "    <tr>\n",
       "      <td>10</td>\n",
       "      <td>2.205675</td>\n",
       "      <td>2.051008</td>\n",
       "      <td>0.919970</td>\n",
       "      <td>00:01</td>\n",
       "    </tr>\n",
       "    <tr>\n",
       "      <td>11</td>\n",
       "      <td>2.195114</td>\n",
       "      <td>2.016674</td>\n",
       "      <td>0.923710</td>\n",
       "      <td>00:02</td>\n",
       "    </tr>\n",
       "    <tr>\n",
       "      <td>12</td>\n",
       "      <td>2.185591</td>\n",
       "      <td>1.980163</td>\n",
       "      <td>0.930790</td>\n",
       "      <td>00:01</td>\n",
       "    </tr>\n",
       "    <tr>\n",
       "      <td>13</td>\n",
       "      <td>2.175482</td>\n",
       "      <td>1.947273</td>\n",
       "      <td>0.935250</td>\n",
       "      <td>00:01</td>\n",
       "    </tr>\n",
       "    <tr>\n",
       "      <td>14</td>\n",
       "      <td>2.166908</td>\n",
       "      <td>1.920500</td>\n",
       "      <td>0.937370</td>\n",
       "      <td>00:01</td>\n",
       "    </tr>\n",
       "    <tr>\n",
       "      <td>15</td>\n",
       "      <td>2.160653</td>\n",
       "      <td>1.899501</td>\n",
       "      <td>0.938350</td>\n",
       "      <td>00:01</td>\n",
       "    </tr>\n",
       "    <tr>\n",
       "      <td>16</td>\n",
       "      <td>2.156108</td>\n",
       "      <td>1.883076</td>\n",
       "      <td>0.938750</td>\n",
       "      <td>00:01</td>\n",
       "    </tr>\n",
       "    <tr>\n",
       "      <td>17</td>\n",
       "      <td>2.152706</td>\n",
       "      <td>1.870070</td>\n",
       "      <td>0.939000</td>\n",
       "      <td>00:01</td>\n",
       "    </tr>\n",
       "    <tr>\n",
       "      <td>18</td>\n",
       "      <td>2.150049</td>\n",
       "      <td>1.859612</td>\n",
       "      <td>0.939090</td>\n",
       "      <td>00:01</td>\n",
       "    </tr>\n",
       "    <tr>\n",
       "      <td>19</td>\n",
       "      <td>2.147907</td>\n",
       "      <td>1.851062</td>\n",
       "      <td>0.939150</td>\n",
       "      <td>00:03</td>\n",
       "    </tr>\n",
       "    <tr>\n",
       "      <td>20</td>\n",
       "      <td>2.146126</td>\n",
       "      <td>1.843955</td>\n",
       "      <td>0.939310</td>\n",
       "      <td>00:05</td>\n",
       "    </tr>\n",
       "    <tr>\n",
       "      <td>21</td>\n",
       "      <td>2.144606</td>\n",
       "      <td>1.837962</td>\n",
       "      <td>0.939660</td>\n",
       "      <td>00:05</td>\n",
       "    </tr>\n",
       "    <tr>\n",
       "      <td>22</td>\n",
       "      <td>2.143274</td>\n",
       "      <td>1.832842</td>\n",
       "      <td>0.939780</td>\n",
       "      <td>00:05</td>\n",
       "    </tr>\n",
       "    <tr>\n",
       "      <td>23</td>\n",
       "      <td>2.142081</td>\n",
       "      <td>1.828412</td>\n",
       "      <td>0.939940</td>\n",
       "      <td>00:01</td>\n",
       "    </tr>\n",
       "    <tr>\n",
       "      <td>24</td>\n",
       "      <td>2.140985</td>\n",
       "      <td>1.824535</td>\n",
       "      <td>0.940170</td>\n",
       "      <td>00:01</td>\n",
       "    </tr>\n",
       "    <tr>\n",
       "      <td>25</td>\n",
       "      <td>2.139956</td>\n",
       "      <td>1.821101</td>\n",
       "      <td>0.940260</td>\n",
       "      <td>00:01</td>\n",
       "    </tr>\n",
       "    <tr>\n",
       "      <td>26</td>\n",
       "      <td>2.138956</td>\n",
       "      <td>1.818024</td>\n",
       "      <td>0.940540</td>\n",
       "      <td>00:01</td>\n",
       "    </tr>\n",
       "    <tr>\n",
       "      <td>27</td>\n",
       "      <td>2.137951</td>\n",
       "      <td>1.815228</td>\n",
       "      <td>0.940670</td>\n",
       "      <td>00:01</td>\n",
       "    </tr>\n",
       "    <tr>\n",
       "      <td>28</td>\n",
       "      <td>2.136888</td>\n",
       "      <td>1.812635</td>\n",
       "      <td>0.940700</td>\n",
       "      <td>00:01</td>\n",
       "    </tr>\n",
       "    <tr>\n",
       "      <td>29</td>\n",
       "      <td>2.135683</td>\n",
       "      <td>1.810164</td>\n",
       "      <td>0.940840</td>\n",
       "      <td>00:01</td>\n",
       "    </tr>\n",
       "    <tr>\n",
       "      <td>30</td>\n",
       "      <td>2.134172</td>\n",
       "      <td>1.807678</td>\n",
       "      <td>0.940900</td>\n",
       "      <td>00:01</td>\n",
       "    </tr>\n",
       "    <tr>\n",
       "      <td>31</td>\n",
       "      <td>2.131957</td>\n",
       "      <td>1.804880</td>\n",
       "      <td>0.941160</td>\n",
       "      <td>00:01</td>\n",
       "    </tr>\n",
       "    <tr>\n",
       "      <td>32</td>\n",
       "      <td>2.127669</td>\n",
       "      <td>1.800637</td>\n",
       "      <td>0.941730</td>\n",
       "      <td>00:01</td>\n",
       "    </tr>\n",
       "    <tr>\n",
       "      <td>33</td>\n",
       "      <td>2.111726</td>\n",
       "      <td>1.784453</td>\n",
       "      <td>0.945410</td>\n",
       "      <td>00:01</td>\n",
       "    </tr>\n",
       "    <tr>\n",
       "      <td>34</td>\n",
       "      <td>2.024650</td>\n",
       "      <td>1.791963</td>\n",
       "      <td>0.947470</td>\n",
       "      <td>00:01</td>\n",
       "    </tr>\n",
       "    <tr>\n",
       "      <td>35</td>\n",
       "      <td>1.985348</td>\n",
       "      <td>1.808765</td>\n",
       "      <td>0.941930</td>\n",
       "      <td>00:01</td>\n",
       "    </tr>\n",
       "    <tr>\n",
       "      <td>36</td>\n",
       "      <td>1.980156</td>\n",
       "      <td>1.803080</td>\n",
       "      <td>0.942400</td>\n",
       "      <td>00:01</td>\n",
       "    </tr>\n",
       "    <tr>\n",
       "      <td>37</td>\n",
       "      <td>1.978715</td>\n",
       "      <td>1.797061</td>\n",
       "      <td>0.942840</td>\n",
       "      <td>00:01</td>\n",
       "    </tr>\n",
       "    <tr>\n",
       "      <td>38</td>\n",
       "      <td>1.977247</td>\n",
       "      <td>1.789959</td>\n",
       "      <td>0.943830</td>\n",
       "      <td>00:01</td>\n",
       "    </tr>\n",
       "    <tr>\n",
       "      <td>39</td>\n",
       "      <td>1.972535</td>\n",
       "      <td>1.783150</td>\n",
       "      <td>0.944700</td>\n",
       "      <td>00:01</td>\n",
       "    </tr>\n",
       "  </tbody>\n",
       "</table>"
      ],
      "text/plain": [
       "<IPython.core.display.HTML object>"
      ]
     },
     "metadata": {},
     "output_type": "display_data"
    }
   ],
   "source": [
    "learn.fit(40, .01)"
   ]
  },
  {
   "cell_type": "code",
   "execution_count": 16,
   "id": "fa2e6524-32d9-4cbc-8777-b771f9d7632a",
   "metadata": {
    "execution": {
     "iopub.execute_input": "2023-09-30T06:18:37.276429Z",
     "iopub.status.busy": "2023-09-30T06:18:37.276178Z",
     "iopub.status.idle": "2023-09-30T06:18:37.281493Z",
     "shell.execute_reply": "2023-09-30T06:18:37.280528Z",
     "shell.execute_reply.started": "2023-09-30T06:18:37.276406Z"
    }
   },
   "outputs": [],
   "source": [
    "def predict(o):\n",
    "    x = (tensor(Image.open(o)).float()/255).view(-1,28*28)\n",
    "    pred = torch.round(simple_net(x).softmax(1)*100, decimals=0)\n",
    "    max_cert = 0\n",
    "    dig = None\n",
    "    for i in range(0,10):\n",
    "        certainty = pred[0][i]\n",
    "        if certainty > max_cert:\n",
    "            max_cert = certainty\n",
    "            dig = i\n",
    "        \n",
    "    print(f'The digit is a {dig}')\n",
    "    "
   ]
  },
  {
   "cell_type": "code",
   "execution_count": 17,
   "id": "394a48b1-6125-4e64-8e91-75075078ddc4",
   "metadata": {
    "execution": {
     "iopub.execute_input": "2023-09-30T06:18:37.282698Z",
     "iopub.status.busy": "2023-09-30T06:18:37.282488Z",
     "iopub.status.idle": "2023-09-30T06:18:37.288957Z",
     "shell.execute_reply": "2023-09-30T06:18:37.288147Z",
     "shell.execute_reply.started": "2023-09-30T06:18:37.282678Z"
    }
   },
   "outputs": [
    {
     "data": {
      "image/png": "[encoded data removed]",
      "text/plain": [
       "<PIL.PngImagePlugin.PngImageFile image mode=L size=28x28>"
      ]
     },
     "execution_count": 17,
     "metadata": {},
     "output_type": "execute_result"
    }
   ],
   "source": [
    "Image.open(validation_images[2][100])"
   ]
  },
  {
   "cell_type": "code",
   "execution_count": 18,
   "id": "03080d38-1698-4437-bd57-f3dc3df93fe7",
   "metadata": {
    "execution": {
     "iopub.execute_input": "2023-09-30T06:18:37.290057Z",
     "iopub.status.busy": "2023-09-30T06:18:37.289781Z",
     "iopub.status.idle": "2023-09-30T06:18:37.296128Z",
     "shell.execute_reply": "2023-09-30T06:18:37.295428Z",
     "shell.execute_reply.started": "2023-09-30T06:18:37.290034Z"
    }
   },
   "outputs": [
    {
     "name": "stdout",
     "output_type": "stream",
     "text": [
      "The digit is a 2\n"
     ]
    }
   ],
   "source": [
    "predict(validation_images[2][9])"
   ]
  }
 ],
 "metadata": {
  "kernelspec": {
   "display_name": "Python 3 (ipykernel)",
   "language": "python",
   "name": "python3"
  },
  "language_info": {
   "codemirror_mode": {
    "name": "ipython",
    "version": 3
   },
   "file_extension": ".py",
   "mimetype": "text/x-python",
   "name": "python",
   "nbconvert_exporter": "python",
   "pygments_lexer": "ipython3",
   "version": "3.9.13"
  }
 },
 "nbformat": 4,
 "nbformat_minor": 5
}
